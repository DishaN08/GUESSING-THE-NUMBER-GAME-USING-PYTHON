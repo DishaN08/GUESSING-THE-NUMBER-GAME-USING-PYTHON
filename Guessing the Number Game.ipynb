{
 "cells": [
  {
   "cell_type": "markdown",
   "id": "72d82bc1",
   "metadata": {},
   "source": [
    "# GUESSING THE NUMBER GAME"
   ]
  },
  {
   "cell_type": "code",
   "execution_count": 1,
   "id": "3c3a6e61",
   "metadata": {
    "scrolled": true
   },
   "outputs": [
    {
     "name": "stdout",
     "output_type": "stream",
     "text": [
      " Welcome to 'Guessing the Number Game'!\n",
      "Number of guesses is limited to only 7 times: \n",
      "Guess the number between 1-50 :\n",
      "40\n",
      "you enter greater number please input smaller number.\n",
      " \n",
      "6 no. of guesses left\n",
      "Guess the number between 1-50 :\n",
      "30\n",
      "you enter greater number please input smaller number.\n",
      " \n",
      "5 no. of guesses left\n",
      "Guess the number between 1-50 :\n",
      "20\n",
      "you enter less number please input greater number.\n",
      "\n",
      "4 no. of guesses left\n",
      "Guess the number between 1-50 :\n",
      "25\n",
      "you enter greater number please input smaller number.\n",
      " \n",
      "3 no. of guesses left\n",
      "Guess the number between 1-50 :\n",
      "23\n",
      "you enter greater number please input smaller number.\n",
      " \n",
      "2 no. of guesses left\n",
      "Guess the number between 1-50 :\n",
      "21\n",
      "you won\n",
      "\n",
      "You took \n",
      "6 no.of guesses you took to finish.\n"
     ]
    }
   ],
   "source": [
    "import random\n",
    "n=random.randint(1,51)\n",
    "guesses=1\n",
    "print(\" Welcome to 'Guessing the Number Game'!\")\n",
    "print(\"Number of guesses is limited to only 7 times: \")\n",
    "while (guesses<=7):\n",
    "    guess_number = int(input(\"Guess the number between 1-50 :\\n\"))\n",
    "    if guess_number<n:\n",
    "        print(\"you enter less number please input greater number.\\n\")\n",
    "    elif guess_number>n:\n",
    "        print(\"you enter greater number please input smaller number.\\n \")\n",
    "    elif guess_number==n:\n",
    "        print(\"you won\\n\")\n",
    "        print(\"You took \")\n",
    "        print(guesses,\"no.of guesses you took to finish.\")\n",
    "        break\n",
    "    print(7-guesses,\"no. of guesses left\")\n",
    "    guesses = guesses + 1\n",
    "\n",
    "if(guesses>7):\n",
    "    print(\"OH NO! YOU WERE NOT ABLE TO GUESS THHE NUMBER\",end=\" \")\n",
    "    print(\"Better luck next time!\\n\")\n",
    "    print(\"Game Over\")"
   ]
  },
  {
   "cell_type": "code",
   "execution_count": null,
   "id": "c41f47bb",
   "metadata": {},
   "outputs": [],
   "source": []
  },
  {
   "cell_type": "code",
   "execution_count": null,
   "id": "b9192b15",
   "metadata": {},
   "outputs": [],
   "source": []
  }
 ],
 "metadata": {
  "kernelspec": {
   "display_name": "Python 3",
   "language": "python",
   "name": "python3"
  },
  "language_info": {
   "codemirror_mode": {
    "name": "ipython",
    "version": 3
   },
   "file_extension": ".py",
   "mimetype": "text/x-python",
   "name": "python",
   "nbconvert_exporter": "python",
   "pygments_lexer": "ipython3",
   "version": "3.8.8"
  }
 },
 "nbformat": 4,
 "nbformat_minor": 5
}
